{
 "metadata": {
  "language_info": {
   "codemirror_mode": {
    "name": "ipython",
    "version": 3
   },
   "file_extension": ".py",
   "mimetype": "text/x-python",
   "name": "python",
   "nbconvert_exporter": "python",
   "pygments_lexer": "ipython3",
   "version": "3.6.10-final"
  },
  "orig_nbformat": 2,
  "kernelspec": {
   "name": "python361064bitpy36conda6befa9babba8473cb67cdf7215549def",
   "display_name": "Python 3.6.10 64-bit ('py3.6': conda)"
  }
 },
 "nbformat": 4,
 "nbformat_minor": 2,
 "cells": [
  {
   "cell_type": "markdown",
   "metadata": {},
   "source": [
    "## bitmapで与えられたMaskデータをPolygonに変換できないか試してみる"
   ]
  },
  {
   "cell_type": "code",
   "execution_count": 5,
   "metadata": {},
   "outputs": [],
   "source": [
    "import geopandas as gpd\n",
    "from geopandas import GeoSeries\n",
    "import sunpy.map\n",
    "import numpy as np"
   ]
  },
  {
   "cell_type": "code",
   "execution_count": 14,
   "metadata": {},
   "outputs": [
    {
     "output_type": "execute_result",
     "data": {
      "text/plain": "array([[0, 0, 0, ..., 0, 0, 0],\n       [0, 0, 0, ..., 0, 0, 0],\n       [0, 0, 0, ..., 0, 0, 0],\n       ...,\n       [0, 0, 0, ..., 0, 0, 0],\n       [0, 0, 0, ..., 0, 0, 0],\n       [0, 0, 0, ..., 0, 0, 0]])"
     },
     "metadata": {},
     "execution_count": 14
    }
   ],
   "source": [
    "#元データ(Mask)\n",
    "mask_path = \"/Volumes/TRANSCEND/dataset/Mharp/bitmap/201005/hmi.Mharp_720s.1.20100501_000000_TAI.bitmap.fits\"\n",
    "mask_map = sunpy.map.Map(mask_path)\n",
    "np.where(mask_map.data==34,1,0)\n"
   ]
  },
  {
   "cell_type": "code",
   "execution_count": 7,
   "metadata": {
    "tags": []
   },
   "outputs": [
    {
     "output_type": "stream",
     "name": "stdout",
     "text": "Help on property:\n\n    Returns a ``GeoSeries`` of geometries representing the convex hull\n    of each geometry.\n    \n    The convex hull of a geometry is the smallest convex `Polygon`\n    containing all the points in each geometry, unless the number of points\n    in the geometric object is less than three. For two points, the convex\n    hull collapses to a `LineString`; for 1, a `Point`.\n\n"
    }
   ],
   "source": [
    "help(GeoSeries.convex_hull)"
   ]
  }
 ]
}