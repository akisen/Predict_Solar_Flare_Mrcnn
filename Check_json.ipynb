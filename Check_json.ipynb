{
 "cells": [
  {
   "cell_type": "code",
   "execution_count": 7,
   "metadata": {},
   "outputs": [
    {
     "name": "stdout",
     "output_type": "stream",
     "text": [
      "{\"info\": {\"description\": \"COCO 2014 Dataset\",\"url\": \"http://cocodataset.org\",\"version\": \"1.0\",\"year\": 2014,\"contributor\": \"COCO Consortium\",\"date_created\": \"2017/09/01\"},\"images\": [{\"license\": 5,\"file_name\": \"COCO_train2014_000000057870.jpg\",\"coco_url\": \"http://images.cocodataset.org/train2014/COCO_train2014_000000057870.jpg\",\"height\": 480,\"width\": 640,\"date_captured\": \"2013-11-14 16:28:13\",\"flickr_url\": \"http://farm4.staticflickr.com/3153/2970773875_164f0c0b83_z.jpg\",\"id\": 57870},{\"license\": 5,\"file_name\": \"COCO_train2014_000000384029.jpg\",\"coco_url\": \"http://images.cocodataset.org/train2014/COCO_train2014_000000384029.jpg\",\"height\": 429,\"width\": 640,\"date_captured\": \"2013-11-14 16:29:45\",\"flickr_url\": \"http://farm3.staticflickr.com/2422/3577229611_3a3235458a_z.jpg\",\"id\": 384029},{\"license\": 1,\"file_name\": \"COCO_train2014_000000222016.jpg\",\"coco_url\": \"http://images.cocodataset.org/train2014/COCO_train2014_000000222016.jpg\",\"height\": 640,\"width\": 480,\"date_captured\": \"2013-11-14 16:37\n"
     ]
    }
   ],
   "source": [
    "path = \"/home/akito/Documents/Mask_RCNN-matterport/Mask_RCNN-master/Dataset/coco/annotations/captions_train2014.json\"\n",
    "with open(path) as f:\n",
    "    print(f.read()[0:1000])\n",
    "    "
   ]
  },
  {
   "cell_type": "code",
   "execution_count": 15,
   "metadata": {},
   "outputs": [
    {
     "name": "stdout",
     "output_type": "stream",
     "text": [
      "{\"info\": {\"description\": \"COCO 2014 Dataset\",\"url\": \"http://cocodataset.org\",\"version\": \"1.0\",\"year\": 2014,\"contributor\": \"COCO Consortium\",\"date_created\": \"2017/09/01\"},\"images\": [{\"license\": 5,\"file_name\": \"COCO_train2014_000000057870.jpg\",\"coco_url\": \"http://images.cocodataset.org/train2014/COCO_train2014_000000057870.jpg\",\"height\": 480,\"width\": 640,\"date_captured\": \"2013-11-14 16:28:13\",\"flickr_url\": \"http://farm4.staticflickr.com/3153/2970773875_164f0c0b83_z.jpg\",\"id\": 57870},{\"license\": 5,\"file_name\": \"COCO_train2014_000000384029.jpg\",\"coco_url\": \"http://images.cocodataset.org/train2014/COCO_train2014_000000384029.jpg\",\"height\": 429,\"width\": 640,\"date_captured\": \"2013-11-14 16:29:45\",\"flickr_url\": \"http://farm3.staticflickr.com/2422/3577229611_3a3235458a_z.jpg\",\"id\": 384029},{\"license\": 1,\"file_name\": \"COCO_train2014_000000222016.jpg\",\"coco_url\": \"http://images.cocodataset.org/train2014/COCO_train2014_000000222016.jpg\",\"height\": 640,\"width\": 480,\"date_captured\": \"2013-11-14 16:37\n"
     ]
    }
   ],
   "source": [
    "path = \"/home/akito/Documents/Mask_RCNN-matterport/Mask_RCNN-master/Dataset/coco/annotations/person_keypoints_train2014.json\"\n",
    "with open(path) as f:\n",
    "    print(f.read()[0:1000])"
   ]
  },
  {
   "cell_type": "code",
   "execution_count": 30,
   "metadata": {},
   "outputs": [
    {
     "name": "stdout",
     "output_type": "stream",
     "text": [
      "c\",\"id\": 72,\"name\": \"tv\"},{\"supercategory\": \"electronic\",\"id\": 73,\"name\": \"laptop\"},{\"supercategory\": \"electronic\",\"id\": 74,\"name\": \"mouse\"},{\"supercategory\": \"electronic\",\"id\": 75,\"name\": \"remote\"},{\"supercategory\": \"electronic\",\"id\": 76,\"name\": \"keyboard\"},{\"supercategory\": \"electronic\",\"id\": 77,\"name\": \"cell phone\"},{\"supercategory\": \"appliance\",\"id\": 78,\"name\": \"microwave\"},{\"supercategory\": \"appliance\",\"id\": 79,\"name\": \"oven\"},{\"supercategory\": \"appliance\",\"id\": 80,\"name\": \"toaster\"},{\"supercategory\": \"appliance\",\"id\": 81,\"name\": \"sink\"},{\"supercategory\": \"appliance\",\"id\": 82,\"name\": \"refrigerator\"},{\"supercategory\": \"indoor\",\"id\": 84,\"name\": \"book\"},{\"supercategory\": \"indoor\",\"id\": 85,\"name\": \"clock\"},{\"supercategory\": \"indoor\",\"id\": 86,\"name\": \"vase\"},{\"supercategory\": \"indoor\",\"id\": 87,\"name\": \"scissors\"},{\"supercategory\": \"indoor\",\"id\": 88,\"name\": \"teddy bear\"},{\"supercategory\": \"indoor\",\"id\": 89,\"name\": \"hair drier\"},{\"supercategory\": \"indoor\",\"id\": 90,\"name\": \"toothbrush\"}]\n"
     ]
    }
   ],
   "source": [
    "path = \"/home/akito/Documents/Mask_RCNN-matterport/Mask_RCNN-master/Dataset/coco/annotations/instances_train2014.json\"\n",
    "with open(path) as f:\n",
    "#     print(f.read()[0:1000])\n",
    "    print(f.read()[-1000:-1:1])"
   ]
  },
  {
   "cell_type": "code",
   "execution_count": null,
   "metadata": {},
   "outputs": [],
   "source": [
    "path = \"/home/akito/Documents/Mask_RCNN-matterport/Mask_RCNN-master/Dataset/coco/annotations/person_keypoints_train2014.json\"\n",
    "with open(path) as f:\n",
    "    print(f.read()[0:1000])"
   ]
  }
 ],
 "metadata": {
  "kernelspec": {
   "display_name": "Python 3",
   "language": "python",
   "name": "python3"
  },
  "language_info": {
   "codemirror_mode": {
    "name": "ipython",
    "version": 3
   },
   "file_extension": ".py",
   "mimetype": "text/x-python",
   "name": "python",
   "nbconvert_exporter": "python",
   "pygments_lexer": "ipython3",
   "version": "3.6.10"
  }
 },
 "nbformat": 4,
 "nbformat_minor": 4
}
