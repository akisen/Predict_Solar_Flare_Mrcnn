{
 "cells": [
  {
   "cell_type": "markdown",
   "metadata": {},
   "source": [
    "# Check Dataset\n",
    "## Pickleデータ"
   ]
  },
  {
   "source": [
    "## Pickleデータを格納しているDataFrameを可視化する"
   ],
   "cell_type": "markdown",
   "metadata": {}
  },
  {
   "cell_type": "code",
   "execution_count": 1,
   "metadata": {},
   "outputs": [],
   "source": [
    "import pickle\n",
    "import pandas as pd\n",
    "import sunpy.map\n",
    "import glob\n",
    "import utils\n",
    "from tqdm import tqdm\n",
    "def pickle_dump(obj, path):\n",
    "    with open(path, mode='wb') as f:\n",
    "        pickle.dump(obj,f)\n",
    "def pickle_load(path):\n",
    "    with open(path, mode='rb') as f:\n",
    "        data = pickle.load(f)\n",
    "        return data"
   ]
  },
  {
   "cell_type": "code",
   "execution_count": 3,
   "metadata": {},
   "outputs": [],
   "source": [
    "\n",
    "path = \"../coord_dfs/201006coord_df.pickle\"\n",
    "coord_df = pickle_load(path)"
   ]
  },
  {
   "cell_type": "code",
   "execution_count": 4,
   "metadata": {},
   "outputs": [
    {
     "output_type": "execute_result",
     "data": {
      "text/plain": [
       "                                                               Polygon  \\\n",
       "2010-06-01 00:00:00  [[(3257.0, 2804.0), (3257.0, 2805.0), (3256.0,...   \n",
       "2010-06-01 01:00:00  [[(3270.0, 2803.0), (3270.0, 2804.0), (3269.0,...   \n",
       "2010-06-01 02:00:00  [[(3284.0, 2804.0), (3284.0, 2805.0), (3283.0,...   \n",
       "2010-06-01 03:00:00  [[(3297.0, 2803.0), (3297.0, 2804.0), (3296.0,...   \n",
       "2010-06-01 04:00:00  [[(3308.0, 2805.0), (3308.0, 2806.0), (3307.0,...   \n",
       "...                                                                ...   \n",
       "2010-06-30 20:00:00  [[(3124.0, 2476.0), (3124.0, 2477.0), (3123.0,...   \n",
       "2010-06-30 21:00:00  [[(3143.0, 2476.0), (3143.0, 2477.0), (3142.0,...   \n",
       "2010-06-30 22:00:00  [[(3159.0, 2476.0), (3159.0, 2477.0), (3158.0,...   \n",
       "2010-06-30 23:00:00  [[(3169.0, 2477.0), (3169.0, 2478.0), (3168.0,...   \n",
       "2010-07-01 00:00:00                                                 []   \n",
       "\n",
       "                                      C_FLARE                   M_FLARE  \\\n",
       "2010-06-01 00:00:00           [0, 0, 0, 0, 0]           [0, 0, 0, 0, 0]   \n",
       "2010-06-01 01:00:00           [0, 0, 0, 0, 0]           [0, 0, 0, 0, 0]   \n",
       "2010-06-01 02:00:00              [0, 0, 0, 0]              [0, 0, 0, 0]   \n",
       "2010-06-01 03:00:00           [0, 0, 0, 0, 0]           [0, 0, 0, 0, 0]   \n",
       "2010-06-01 04:00:00        [0, 0, 0, 0, 0, 0]        [0, 0, 0, 0, 0, 0]   \n",
       "...                                       ...                       ...   \n",
       "2010-06-30 20:00:00  [0, 0, 0, 0, 0, 0, 0, 0]  [0, 0, 0, 0, 0, 0, 0, 0]   \n",
       "2010-06-30 21:00:00  [0, 0, 0, 0, 0, 0, 0, 0]  [0, 0, 0, 0, 0, 0, 0, 0]   \n",
       "2010-06-30 22:00:00     [0, 0, 0, 0, 0, 0, 0]     [0, 0, 0, 0, 0, 0, 0]   \n",
       "2010-06-30 23:00:00  [0, 0, 0, 0, 0, 0, 0, 0]  [0, 0, 0, 0, 0, 0, 0, 0]   \n",
       "2010-07-01 00:00:00                        []                        []   \n",
       "\n",
       "                                      X_FLARE  \n",
       "2010-06-01 00:00:00           [0, 0, 0, 0, 0]  \n",
       "2010-06-01 01:00:00           [0, 0, 0, 0, 0]  \n",
       "2010-06-01 02:00:00              [0, 0, 0, 0]  \n",
       "2010-06-01 03:00:00           [0, 0, 0, 0, 0]  \n",
       "2010-06-01 04:00:00        [0, 0, 0, 0, 0, 0]  \n",
       "...                                       ...  \n",
       "2010-06-30 20:00:00  [0, 0, 0, 0, 0, 0, 0, 0]  \n",
       "2010-06-30 21:00:00  [0, 0, 0, 0, 0, 0, 0, 0]  \n",
       "2010-06-30 22:00:00     [0, 0, 0, 0, 0, 0, 0]  \n",
       "2010-06-30 23:00:00  [0, 0, 0, 0, 0, 0, 0, 0]  \n",
       "2010-07-01 00:00:00                        []  \n",
       "\n",
       "[721 rows x 4 columns]"
      ],
      "text/html": "<div>\n<style scoped>\n    .dataframe tbody tr th:only-of-type {\n        vertical-align: middle;\n    }\n\n    .dataframe tbody tr th {\n        vertical-align: top;\n    }\n\n    .dataframe thead th {\n        text-align: right;\n    }\n</style>\n<table border=\"1\" class=\"dataframe\">\n  <thead>\n    <tr style=\"text-align: right;\">\n      <th></th>\n      <th>Polygon</th>\n      <th>C_FLARE</th>\n      <th>M_FLARE</th>\n      <th>X_FLARE</th>\n    </tr>\n  </thead>\n  <tbody>\n    <tr>\n      <th>2010-06-01 00:00:00</th>\n      <td>[[(3257.0, 2804.0), (3257.0, 2805.0), (3256.0,...</td>\n      <td>[0, 0, 0, 0, 0]</td>\n      <td>[0, 0, 0, 0, 0]</td>\n      <td>[0, 0, 0, 0, 0]</td>\n    </tr>\n    <tr>\n      <th>2010-06-01 01:00:00</th>\n      <td>[[(3270.0, 2803.0), (3270.0, 2804.0), (3269.0,...</td>\n      <td>[0, 0, 0, 0, 0]</td>\n      <td>[0, 0, 0, 0, 0]</td>\n      <td>[0, 0, 0, 0, 0]</td>\n    </tr>\n    <tr>\n      <th>2010-06-01 02:00:00</th>\n      <td>[[(3284.0, 2804.0), (3284.0, 2805.0), (3283.0,...</td>\n      <td>[0, 0, 0, 0]</td>\n      <td>[0, 0, 0, 0]</td>\n      <td>[0, 0, 0, 0]</td>\n    </tr>\n    <tr>\n      <th>2010-06-01 03:00:00</th>\n      <td>[[(3297.0, 2803.0), (3297.0, 2804.0), (3296.0,...</td>\n      <td>[0, 0, 0, 0, 0]</td>\n      <td>[0, 0, 0, 0, 0]</td>\n      <td>[0, 0, 0, 0, 0]</td>\n    </tr>\n    <tr>\n      <th>2010-06-01 04:00:00</th>\n      <td>[[(3308.0, 2805.0), (3308.0, 2806.0), (3307.0,...</td>\n      <td>[0, 0, 0, 0, 0, 0]</td>\n      <td>[0, 0, 0, 0, 0, 0]</td>\n      <td>[0, 0, 0, 0, 0, 0]</td>\n    </tr>\n    <tr>\n      <th>...</th>\n      <td>...</td>\n      <td>...</td>\n      <td>...</td>\n      <td>...</td>\n    </tr>\n    <tr>\n      <th>2010-06-30 20:00:00</th>\n      <td>[[(3124.0, 2476.0), (3124.0, 2477.0), (3123.0,...</td>\n      <td>[0, 0, 0, 0, 0, 0, 0, 0]</td>\n      <td>[0, 0, 0, 0, 0, 0, 0, 0]</td>\n      <td>[0, 0, 0, 0, 0, 0, 0, 0]</td>\n    </tr>\n    <tr>\n      <th>2010-06-30 21:00:00</th>\n      <td>[[(3143.0, 2476.0), (3143.0, 2477.0), (3142.0,...</td>\n      <td>[0, 0, 0, 0, 0, 0, 0, 0]</td>\n      <td>[0, 0, 0, 0, 0, 0, 0, 0]</td>\n      <td>[0, 0, 0, 0, 0, 0, 0, 0]</td>\n    </tr>\n    <tr>\n      <th>2010-06-30 22:00:00</th>\n      <td>[[(3159.0, 2476.0), (3159.0, 2477.0), (3158.0,...</td>\n      <td>[0, 0, 0, 0, 0, 0, 0]</td>\n      <td>[0, 0, 0, 0, 0, 0, 0]</td>\n      <td>[0, 0, 0, 0, 0, 0, 0]</td>\n    </tr>\n    <tr>\n      <th>2010-06-30 23:00:00</th>\n      <td>[[(3169.0, 2477.0), (3169.0, 2478.0), (3168.0,...</td>\n      <td>[0, 0, 0, 0, 0, 0, 0, 0]</td>\n      <td>[0, 0, 0, 0, 0, 0, 0, 0]</td>\n      <td>[0, 0, 0, 0, 0, 0, 0, 0]</td>\n    </tr>\n    <tr>\n      <th>2010-07-01 00:00:00</th>\n      <td>[]</td>\n      <td>[]</td>\n      <td>[]</td>\n      <td>[]</td>\n    </tr>\n  </tbody>\n</table>\n<p>721 rows × 4 columns</p>\n</div>"
     },
     "metadata": {},
     "execution_count": 4
    }
   ],
   "source": [
    "from datetime import datetime\n",
    "coord_df"
   ]
  },
  {
   "cell_type": "code",
   "execution_count": 5,
   "metadata": {},
   "outputs": [],
   "source": [
    "# 書き出し\n",
    "coord_df.to_csv(\"201006.csv\")"
   ]
  },
  {
   "source": [
    "## データ数のカウント\n",
    "データのインバランスが学習に与える可能性があるのでデータ内のフレアラベルがTrueのデータとFalseのデータを調べる\n"
   ],
   "cell_type": "markdown",
   "metadata": {}
  },
  {
   "cell_type": "code",
   "execution_count": 5,
   "metadata": {
    "tags": []
   },
   "outputs": [
    {
     "output_type": "stream",
     "name": "stdout",
     "text": [
      "201005\n",
      "all_data:10002,flare_data:0\n",
      "201006\n",
      "all_data:8628,flare_data:96\n",
      "201007\n",
      "all_data:9846,flare_data:55\n",
      "201008\n",
      "all_data:12753,flare_data:31\n",
      "201009\n",
      "all_data:12336,flare_data:22\n",
      "201010\n",
      "all_data:10011,flare_data:54\n",
      "201011\n",
      "all_data:8199,flare_data:87\n",
      "201012\n",
      "all_data:12027,flare_data:0\n",
      "201101\n",
      "all_data:8862,flare_data:0\n",
      "201102\n",
      "all_data:12795,flare_data:287\n",
      "201103\n",
      "all_data:16197,flare_data:509\n",
      "201104\n",
      "all_data:18204,flare_data:408\n",
      "201105\n",
      "all_data:23997,flare_data:128\n",
      "201106\n",
      "all_data:16983,flare_data:42\n",
      "201107\n",
      "all_data:19146,flare_data:364\n",
      "201108\n",
      "all_data:23904,flare_data:377\n",
      "201109\n",
      "all_data:22044,flare_data:656\n",
      "201110\n",
      "all_data:28266,flare_data:525\n",
      "201111\n",
      "all_data:27813,flare_data:1004\n",
      "201112\n",
      "all_data:31026,flare_data:717\n",
      "201201\n",
      "all_data:25800,flare_data:152\n",
      "201202\n",
      "all_data:16803,flare_data:54\n",
      "201203\n",
      "all_data:22863,flare_data:612\n",
      "201204\n",
      "all_data:25128,flare_data:511\n",
      "201205\n",
      "all_data:31068,flare_data:394\n",
      "201206\n",
      "all_data:23085,flare_data:554\n",
      "201207\n",
      "all_data:16296,flare_data:933\n",
      "201208\n",
      "all_data:26394,flare_data:543\n",
      "201209\n",
      "all_data:25530,flare_data:263\n",
      "201210\n",
      "all_data:20769,flare_data:330\n",
      "201211\n",
      "all_data:21102,flare_data:833\n",
      "201212\n",
      "all_data:22986,flare_data:138\n",
      "201301\n",
      "all_data:27807,flare_data:431\n",
      "201302\n",
      "all_data:20055,flare_data:150\n",
      "201303\n",
      "all_data:22260,flare_data:55\n",
      "201304\n",
      "all_data:25113,flare_data:531\n",
      "201305\n",
      "all_data:28458,flare_data:1019\n",
      "201306\n",
      "all_data:28746,flare_data:296\n",
      "201307\n",
      "all_data:30864,flare_data:355\n",
      "201308\n",
      "all_data:36132,flare_data:137\n",
      "201309\n",
      "all_data:24453,flare_data:58\n",
      "201310\n",
      "all_data:24474,flare_data:939\n",
      "201311\n",
      "all_data:30120,flare_data:627\n",
      "201312\n",
      "all_data:28611,flare_data:578\n",
      "201401\n",
      "all_data:29688,flare_data:905\n",
      "201402\n",
      "all_data:26532,flare_data:970\n",
      "201403\n",
      "all_data:30399,flare_data:913\n",
      "201404\n",
      "all_data:35673,flare_data:705\n",
      "201405\n",
      "all_data:28926,flare_data:638\n",
      "201406\n",
      "all_data:25497,flare_data:850\n",
      "201407\n",
      "all_data:27936,flare_data:619\n",
      "201408\n",
      "all_data:25899,flare_data:413\n",
      "201409\n",
      "all_data:33102,flare_data:611\n",
      "201410\n",
      "all_data:31911,flare_data:595\n",
      "201411\n",
      "all_data:30144,flare_data:894\n",
      "201412\n",
      "all_data:34848,flare_data:780\n",
      "201501\n",
      "all_data:31665,flare_data:696\n",
      "201502\n",
      "all_data:31596,flare_data:250\n",
      "201503\n",
      "all_data:33444,flare_data:657\n",
      "201504\n",
      "all_data:28920,flare_data:612\n",
      "201505\n",
      "all_data:31065,flare_data:540\n",
      "201506\n",
      "all_data:22725,flare_data:475\n",
      "201507\n",
      "all_data:25863,flare_data:146\n",
      "201508\n",
      "all_data:28215,flare_data:472\n",
      "201509\n",
      "all_data:19818,flare_data:274\n",
      "201510\n",
      "all_data:18582,flare_data:430\n",
      "201511\n",
      "all_data:19407,flare_data:304\n",
      "201512\n",
      "all_data:22341,flare_data:485\n",
      "201601\n",
      "all_data:19869,flare_data:105\n",
      "201602\n",
      "all_data:21177,flare_data:248\n",
      "201603\n",
      "all_data:15480,flare_data:77\n",
      "201604\n",
      "all_data:16122,flare_data:120\n",
      "201605\n",
      "all_data:17364,flare_data:54\n",
      "201606\n",
      "all_data:17301,flare_data:0\n",
      "201607\n",
      "all_data:12309,flare_data:193\n",
      "201608\n",
      "all_data:11646,flare_data:38\n",
      "201609\n",
      "all_data:12972,flare_data:0\n",
      "201610\n",
      "all_data:11466,flare_data:0\n",
      "201611\n",
      "all_data:12216,flare_data:41\n",
      "201612\n",
      "all_data:7932,flare_data:24\n",
      "201701\n",
      "all_data:8256,flare_data:24\n",
      "201702\n",
      "all_data:6192,flare_data:0\n",
      "201703\n",
      "all_data:4830,flare_data:73\n",
      "201704\n",
      "all_data:5850,flare_data:166\n",
      "201705\n",
      "all_data:8412,flare_data:10\n",
      "201706\n",
      "all_data:7842,flare_data:21\n",
      "201707\n",
      "all_data:6621,flare_data:68\n",
      "201708\n",
      "all_data:5181,flare_data:81\n",
      "201709\n",
      "all_data:11433,flare_data:264\n",
      "201710\n",
      "all_data:7152,flare_data:0\n",
      "201711\n",
      "all_data:4563,flare_data:0\n",
      "201712\n",
      "all_data:3975,flare_data:0\n",
      "201801\n",
      "all_data:2376,flare_data:0\n",
      "201802\n",
      "all_data:1806,flare_data:0\n",
      "201803\n",
      "all_data:1557,flare_data:0\n",
      "201804\n",
      "all_data:363,flare_data:0\n",
      "201805\n",
      "all_data:4407,flare_data:24\n",
      "201806\n",
      "all_data:5160,flare_data:0\n",
      "201807\n",
      "all_data:1884,flare_data:0\n",
      "201808\n",
      "all_data:3606,flare_data:0\n",
      "201809\n",
      "all_data:2511,flare_data:0\n",
      "201810\n",
      "all_data:2127,flare_data:0\n",
      "201811\n",
      "all_data:1104,flare_data:0\n",
      "201812\n",
      "all_data:2178,flare_data:0\n",
      "201901\n",
      "all_data:423,flare_data:0\n",
      "201902\n",
      "all_data:0,flare_data:0\n"
     ]
    },
    {
     "output_type": "error",
     "ename": "ZeroDivisionError",
     "evalue": "division by zero",
     "traceback": [
      "\u001b[0;31m---------------------------------------------------------------------------\u001b[0m",
      "\u001b[0;31mZeroDivisionError\u001b[0m                         Traceback (most recent call last)",
      "\u001b[0;32m<ipython-input-5-8b5f4c47bba6>\u001b[0m in \u001b[0;36m<module>\u001b[0;34m\u001b[0m\n\u001b[1;32m     17\u001b[0m     \u001b[0mprint\u001b[0m\u001b[0;34m(\u001b[0m\u001b[0;34m\"all_data:{},flare_data:{}\"\u001b[0m\u001b[0;34m.\u001b[0m\u001b[0mformat\u001b[0m\u001b[0;34m(\u001b[0m\u001b[0mall_data\u001b[0m\u001b[0;34m,\u001b[0m\u001b[0mflare_data\u001b[0m\u001b[0;34m)\u001b[0m\u001b[0;34m)\u001b[0m\u001b[0;34m\u001b[0m\u001b[0;34m\u001b[0m\u001b[0m\n\u001b[1;32m     18\u001b[0m     \u001b[0;32mwith\u001b[0m \u001b[0mopen\u001b[0m\u001b[0;34m(\u001b[0m\u001b[0;34m\"imbalance.txt\"\u001b[0m\u001b[0;34m,\u001b[0m \u001b[0mmode\u001b[0m\u001b[0;34m=\u001b[0m\u001b[0;34m\"a\"\u001b[0m\u001b[0;34m)\u001b[0m \u001b[0;32mas\u001b[0m \u001b[0mf\u001b[0m\u001b[0;34m:\u001b[0m\u001b[0;34m\u001b[0m\u001b[0;34m\u001b[0m\u001b[0m\n\u001b[0;32m---> 19\u001b[0;31m         \u001b[0mf\u001b[0m\u001b[0;34m.\u001b[0m\u001b[0mwrite\u001b[0m\u001b[0;34m(\u001b[0m\u001b[0;34m\"{}:all_data:{},flare_data:{} imbalance:{}\\n\"\u001b[0m\u001b[0;34m.\u001b[0m\u001b[0mformat\u001b[0m\u001b[0;34m(\u001b[0m\u001b[0mmonth\u001b[0m\u001b[0;34m,\u001b[0m\u001b[0mall_data\u001b[0m\u001b[0;34m,\u001b[0m\u001b[0mflare_data\u001b[0m\u001b[0;34m,\u001b[0m\u001b[0mflare_data\u001b[0m\u001b[0;34m/\u001b[0m\u001b[0mall_data\u001b[0m\u001b[0;34m)\u001b[0m\u001b[0;34m)\u001b[0m\u001b[0;34m\u001b[0m\u001b[0;34m\u001b[0m\u001b[0m\n\u001b[0m\u001b[1;32m     20\u001b[0m \u001b[0;34m\u001b[0m\u001b[0m\n",
      "\u001b[0;31mZeroDivisionError\u001b[0m: division by zero"
     ]
    }
   ],
   "source": [
    "df_paths = sorted(glob.glob(\"../coord_dfs/*coord_df.pickle\"))\n",
    "keys = [\"C_FLARE\",\"M_FLARE\",\"X_FLARE\"]\n",
    "for df_path in df_paths:\n",
    "    coord_df = pickle_load(df_path)\n",
    "    all_data = 0\n",
    "    flare_data = 0\n",
    "    month = df_path[-21:-15]\n",
    "    print(month)\n",
    "    for index,row in coord_df.iterrows():\n",
    "        is_flared = [False for i in range(len(row[\"Polygon\"]))]\n",
    "        for i,cell in enumerate(is_flared):\n",
    "            for key in keys:\n",
    "                all_data +=1\n",
    "                if row[key][i]!=0:\n",
    "                    is_flared[i] = True\n",
    "                    flare_data +=1\n",
    "    print(\"all_data:{},flare_data:{}\".format(all_data,flare_data))\n",
    "    with open(\"imbalance.txt\", mode=\"a\") as f:\n",
    "        f.write(\"{}:all_data:{},flare_data:{} imbalance:{}\\n\".format(month,all_data,flare_data,flare_data/all_data))\n",
    "\n"
   ]
  },
  {
   "cell_type": "code",
   "execution_count": 7,
   "metadata": {},
   "outputs": [
    {
     "output_type": "error",
     "ename": "NameError",
     "evalue": "name 'coco_pickles' is not defined",
     "traceback": [
      "\u001b[0;31m---------------------------------------------------------------------------\u001b[0m",
      "\u001b[0;31mNameError\u001b[0m                                 Traceback (most recent call last)",
      "\u001b[0;32m<ipython-input-7-0900c487c07e>\u001b[0m in \u001b[0;36m<module>\u001b[0;34m\u001b[0m\n\u001b[1;32m      1\u001b[0m \u001b[0;32mimport\u001b[0m \u001b[0mjson\u001b[0m\u001b[0;34m\u001b[0m\u001b[0;34m\u001b[0m\u001b[0m\n\u001b[1;32m      2\u001b[0m \u001b[0;32mwith\u001b[0m \u001b[0mopen\u001b[0m \u001b[0;34m(\u001b[0m\u001b[0;34m\"dataset.json\"\u001b[0m\u001b[0;34m,\u001b[0m \u001b[0;34m\"w\"\u001b[0m\u001b[0;34m)\u001b[0m \u001b[0;32mas\u001b[0m \u001b[0mf\u001b[0m\u001b[0;34m:\u001b[0m\u001b[0;34m\u001b[0m\u001b[0;34m\u001b[0m\u001b[0m\n\u001b[0;32m----> 3\u001b[0;31m     \u001b[0mjson\u001b[0m\u001b[0;34m.\u001b[0m\u001b[0mdump\u001b[0m\u001b[0;34m(\u001b[0m\u001b[0mcoco_pickles\u001b[0m\u001b[0;34m,\u001b[0m\u001b[0mf\u001b[0m\u001b[0;34m)\u001b[0m\u001b[0;34m\u001b[0m\u001b[0;34m\u001b[0m\u001b[0m\n\u001b[0m",
      "\u001b[0;31mNameError\u001b[0m: name 'coco_pickles' is not defined"
     ]
    }
   ],
   "source": [
    "import json\n",
    "with open (\"dataset.json\", \"w\") as f:\n",
    "    json.dump(coco_pickles,f)"
   ]
  },
  {
   "cell_type": "markdown",
   "metadata": {},
   "source": [
    "## 改めてデータセットをチェックする(2020/11/16)\n",
    "そもそも回転しなくてもいい可能性がある\n",
    "→全部が同じだけずれているのであればそのままで重ねてみればいいかもしれない\n",
    "M_45s→179.929642\n",
    "M_720s→\n",
    "mharp.bitmap→180.0825\n",
    "\n"
   ]
  },
  {
   "cell_type": "code",
   "execution_count": 80,
   "metadata": {},
   "outputs": [
    {
     "output_type": "execute_result",
     "data": {
      "text/plain": "179.929642"
     },
     "metadata": {},
     "execution_count": 80
    }
   ],
   "source": [
    "full_disk_path = \"/Volumes/NO NAME/datasets/HMI_REGION/hmi.M_45s.20100501_000000_TAI.2.magnetogram.fits\"\n",
    "full_disk_map = sunpy.map.Map(full_disk_path)\n",
    "# full_disk_meta = [\"{}:{}\".format(key,value) for key,value in full_disk_map.meta.items()]\n",
    "full_disk_map.meta[\"crota2\"]"
   ]
  },
  {
   "cell_type": "code",
   "execution_count": 82,
   "metadata": {},
   "outputs": [
    {
     "output_type": "execute_result",
     "data": {
      "text/plain": "['simple:True',\n 'bitpix:16',\n 'naxis:2',\n 'naxis1:207',\n 'naxis2:279',\n 'extend:True',\n \"comment:FITS (Flexible Image Transport System) format is defined in 'Astronomy  and Astrophysics', volume 376, page 359; bibcode: 2001A&A...376..359H\",\n 'date:2012-04-10T05:26:33',\n 'telescop:SDO/HMI',\n 'instrume:HMI_SIDE1',\n 'wavelnth:6173.0',\n 'camera:1',\n 'bunit:none',\n 'content:HMI Active Region Patch',\n 'bld_vers:V6R1X',\n 'quality:66560',\n 'quallev1:0',\n 't_obs:2010.05.01_00:00:04_TAI',\n 't_rec:2010.05.01_00:00:00_TAI',\n 'trecepoc:1993.01.01_00:00:00_TAI',\n 'trecstep:720.0',\n 'trecunit:secs',\n 'cadence:720.0',\n 'datasign:1',\n 'harpnum:1',\n 'date-obs:2010-04-30T23:58:22.20',\n 'hflid:1001',\n 'hcftid:11',\n 'qlook:0',\n 'tintnum:8',\n 'sintnum:10',\n 'distcoef:/home/jsoc/cvs/Development/JSOC/proj/lev1.5_hmi/apps/../libs/lev15/',\n 'rotcoef:/home/jsoc/cvs/Development/JSOC/proj/lev1.5_hmi/apps/../libs/lev15/',\n 'polcalm:1',\n 'codever0:$Id: HMI_IQUV_averaging.c,v 1.19 2011/03/09 18:24:30 couvidat Exp $',\n 'codever1:$Id: interpol_code.c,v 1.1 2010/09/16 20:46:48 couvidat Exp $',\n 'codever2:$Id: interpol_code.c,v 1.1 2010/09/16 20:46:48 couvidat Exp $',\n 'codever3:$Id: polcal.c,v 1.4 2010/09/23 20:57:27 schou Exp $',\n 'ctype1:Internal ad-hoc (HPLN-TAN)',\n 'ctype2:Internal ad-hoc (HPLT-TAN)',\n 'crpix1:3599.0',\n 'crpix2:1105.0',\n 'crval1:-788.738281',\n 'crval2:474.840912',\n 'cdelt1:0.504348',\n 'cdelt2:0.504348',\n 'cunit1:arcsec',\n 'cunit2:arcsec',\n 'crota2:180.0825',\n 'crder1:nan',\n 'crder2:nan',\n 'csyser1:nan',\n 'csyser2:nan',\n 'wcsname:Internal ad-hoc (Helioprojective-tangent)',\n 'imcrpix1:2037.480957',\n 'imcrpix2:2049.743408',\n 'imcrval1:0.0',\n 'imcrval2:0.0',\n 'crsize1:207',\n 'crsize2:279',\n 'dsun_obs:150707441052.12',\n 'dsun_ref:149597863936.0',\n 'rsun_ref:696000000.0',\n 'crln_obs:251.257538',\n 'crlt_obs:-4.201544',\n 'car_rot:2096',\n 'obs_vr:3181.808728',\n 'obs_vw:28246.206151',\n 'obs_vn:3845.151942',\n 'rsun_obs:952.579468',\n 'totvals:57753',\n 'datavals:40283',\n 'missvals:17470',\n 'offdisk:0',\n 'quiet:1',\n 'active:2',\n 'nclass:2',\n 'on_patch:32',\n 'mask:32',\n 'arm_qual:0',\n 'arm_ncln:1840',\n 'h_merge:0',\n 'h_faint:0',\n 'armcodev:hmi_segment_module ver: 2.0',\n 'armdocu:http://jsoc.stanford.edu/jsocwiki/ARmaskDataSeries',\n 'hrpcodev:ingest_mharp ver: 1.0',\n 'hrpdocu:http://jsoc.stanford.edu/jsocwiki/HARPDataSeries',\n 'arm_modl:/builtin/hmi.M_Ic_noLimbDark_720s.production',\n 'arm_edge:2.5',\n 'arm_beta:0.3',\n 'tkp_kwid:1',\n 'tkp_klat:4',\n 'tkp_tau:0.018',\n 'tkp_tau2:0.8',\n 'tkp_actv:2',\n 'tkp_fnum:-2',\n 'tkp_ftim:2',\n 'tkp_mapr:10.397207708399',\n 'tkp_runn:hmi.Marmask_720s[2010.05.13/1d]{mask}',\n 'tkp_runt:20120409T220137',\n 'latdtmin:20.513599',\n 'londtmin:-87.762901',\n 'latdtmax:28.4676',\n 'londtmax:-70.368797',\n 'omega_dt:13.2286',\n 'npix:3842',\n 'size:342.819611',\n 'area:1108.229492',\n 'nacr:374',\n 'size_acr:33.371819',\n 'area_acr:107.599098',\n 'mtot:312077.0',\n 'mnet:215299.796875',\n 'mpos_tot:263688.40625',\n 'mneg_tot:48388.601562',\n 'mmean:56.038471',\n 'mstdev:95.140701',\n 'mskew:0.417232',\n 'mkurt:1.321714',\n 'lat_min:21.830992',\n 'lon_min:-82.512505',\n 'lat_max:25.662611',\n 'lon_max:-74.103981',\n 'lat_fwt:23.815041',\n 'lon_fwt:-78.194817',\n 'latfwtpo:23.822844',\n 'lonfwtpo:-78.326813',\n 'latfwtne:23.677998',\n 'lonfwtne:-75.876213',\n 't_frst:2010.04.30_00:00:00_TAI',\n 't_frst1:2010.05.01_00:00:00_TAI',\n 't_last1:2010.05.11_16:12:00_TAI',\n 't_last:2010.05.12_16:12:00_TAI',\n 'n_patch:1522',\n 'n_patch1:1282',\n 'n_patchm:0',\n 'noaa_ar:11067',\n 'noaa_num:1',\n 'noaa_ars:11067',\n 'calver64:0',\n 'recnum:5735',\n 'blank:-32768',\n 'checksum:WDJmaAHlYAHlaAHl',\n 'datasum:1060585462',\n 'history:',\n \"keycomments:{'SIMPLE': 'file does conform to FITS standard', 'BITPIX': 'number of bits per data pixel', 'NAXIS': 'number of data axes', 'NAXIS1': 'length of data axis 1', 'NAXIS2': 'length of data axis 2', 'EXTEND': 'FITS dataset may contain extensions', 'CHECKSUM': 'HDU checksum updated 2020-07-13T01:23:26', 'DATASUM': 'data unit checksum updated 2020-07-13T01:23:26'}\",\n 'waveunit:None',\n 'detector:HMI']"
     },
     "metadata": {},
     "execution_count": 82
    }
   ],
   "source": [
    "bitmap_path = \"/Volumes/NO NAME/datasets/bitmap/hmi.Mharp_720s.1.20100501_000000_TAI.bitmap.fits\"\n",
    "bitmap_map = sunpy.map.Map(bitmap_path)\n",
    "bitmap_map.meta[\"crota2\"]\n",
    "bitmap_meta = [\"{}:{}\".format(key,value) for key,value in bitmap_map.meta.items()]\n",
    "bitmap_meta"
   ]
  },
  {
   "cell_type": "code",
   "execution_count": 13,
   "metadata": {},
   "outputs": [
    {
     "output_type": "execute_result",
     "data": {
      "text/plain": "180.0134"
     },
     "metadata": {},
     "execution_count": 13
    }
   ],
   "source": [
    "full_disk_path = \"/Volumes/NO NAME/datasets/HMI_REGION/hmi.M_720s.20100501_000000_TAI.1.magnetogram.fits\"\n",
    "full_disk_map = sunpy.map.Map(full_disk_path)\n",
    "full_disk_map.meta[\"crota2\"]"
   ]
  },
  {
   "cell_type": "code",
   "execution_count": 17,
   "metadata": {},
   "outputs": [
    {
     "output_type": "execute_result",
     "data": {
      "text/plain": "0.0"
     },
     "metadata": {},
     "execution_count": 17
    }
   ],
   "source": [
    "sharp_path = \"/Volumes/NO NAME/datasets/SHARP(CEA)/JSOC_20201116_517/hmi.sharp_cea_720s.1.20100501_000000_TAI.bitmap.fits\"\n",
    "sharp_map = sunpy.map.Map(sharp_path)\n",
    "sharp_map.meta[\"crota2\"]"
   ]
  },
  {
   "cell_type": "code",
   "execution_count": 21,
   "metadata": {},
   "outputs": [
    {
     "output_type": "execute_result",
     "data": {
      "text/plain": "True"
     },
     "metadata": {},
     "execution_count": 21
    }
   ],
   "source": [
    "# 画像書き出し\n",
    "import cv2\n",
    "cv2.imwrite(\"2010050100.png\",full_disk_map.data)"
   ]
  },
  {
   "cell_type": "code",
   "execution_count": 124,
   "metadata": {},
   "outputs": [],
   "source": [
    "from rasterio.features import shapes\n",
    "import numpy as np\n",
    "ar_polygon = shapes(bitmap_map.data.astype(\"int16\"),mask=None,connectivity = 8)"
   ]
  },
  {
   "cell_type": "code",
   "execution_count": 127,
   "metadata": {
    "tags": []
   },
   "outputs": [
    {
     "output_type": "execute_result",
     "data": {
      "text/plain": "True"
     },
     "metadata": {},
     "execution_count": 127
    }
   ],
   "source": [
    "from shapely.geometry import Polygon\n",
    "image = cv2.imread(\"2010050100.png\")\n",
    "overlay=image.copy()\n",
    "ll_x = bitmap_map.meta[\"crpix1\"]\n",
    "ll_y = bitmap_map.meta[\"crpix2\"]\n",
    "int_coords = lambda x:np.array(x).round().astype(np.int32)\n",
    "alpha = 0.5\n",
    "for p,j in ar_polygon:\n",
    "    poly = [(coord[0]+ll_x,coord[1]+ll_y) for coord in p[\"coordinates\"][0]]\n",
    "    polygon = Polygon(poly)\n",
    "    exterior = [int_coords(polygon.exterior.coords)]\n",
    "    cv2.polylines(overlay,exterior,color=(255,255,0),isClosed=True,thickness = 10)\n",
    "    cv2.addWeighted(overlay, alpha, image, 1 - alpha, 0, image)\n",
    "cv2.imwrite(\"2010050100_overray.png\",image)\n",
    "    "
   ]
  },
  {
   "cell_type": "code",
   "execution_count": null,
   "metadata": {},
   "outputs": [],
   "source": []
  },
  {
   "cell_type": "code",
   "execution_count": null,
   "metadata": {},
   "outputs": [],
   "source": []
  }
 ],
 "metadata": {
  "kernelspec": {
   "name": "python3",
   "display_name": "Python 3",
   "metadata": {
    "interpreter": {
     "hash": "c1adb5375f229d1eea2415024ee773cb2493614d24a9913a0f46472292080f4e"
    }
   }
  },
  "language_info": {
   "codemirror_mode": {
    "name": "ipython",
    "version": 3
   },
   "file_extension": ".py",
   "mimetype": "text/x-python",
   "name": "python",
   "nbconvert_exporter": "python",
   "pygments_lexer": "ipython3",
   "version": "3.7.9-final"
  }
 },
 "nbformat": 4,
 "nbformat_minor": 4
}