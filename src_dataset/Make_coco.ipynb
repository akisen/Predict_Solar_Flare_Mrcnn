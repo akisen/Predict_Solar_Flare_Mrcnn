{
 "metadata": {
  "language_info": {
   "codemirror_mode": {
    "name": "ipython",
    "version": 3
   },
   "file_extension": ".py",
   "mimetype": "text/x-python",
   "name": "python",
   "nbconvert_exporter": "python",
   "pygments_lexer": "ipython3",
   "version": "3.6.10-final"
  },
  "orig_nbformat": 2,
  "kernelspec": {
   "name": "python_defaultSpec_1598834669309",
   "display_name": "Python 3.6.10 64-bit ('py3.6': conda)"
  }
 },
 "nbformat": 4,
 "nbformat_minor": 2,
 "cells": [
  {
   "cell_type": "markdown",
   "metadata": {},
   "source": [
    "## MaskデータをCOCOフォーマットに変換して学習用のデータセットを作成する\n",
    "[参考:COCO Formatの作り方](https://qiita.com/harmegiddo/items/da131ae5bcddbbbde41f)"
   ]
  },
  {
   "cell_type": "markdown",
   "metadata": {},
   "source": [
    "## フォーマット\n",
    "データ全体のフォーマットは以下の通り  \n",
    "今回必要そうなのは、  \n",
    "- Info\n",
    "- Images\n",
    "- Annotations\n",
    "```JSON\n",
    "{\n",
    "    \"info\": {...},\n",
    "    \"licenses\": [...],\n",
    "    \"images\": [...],\n",
    "    \"annotations\": [...],\n",
    "    \"categories\": [...], <-- Not in Captions annotations\n",
    "    \"segment_info\": [...] <-- Only in Panoptic annotations\n",
    "}\n",
    "\n",
    "```"
   ]
  },
  {
   "cell_type": "markdown",
   "metadata": {},
   "source": [
    "## Info部分の作成\n",
    "あってもなくてもいいがデータセットの内容について記述するために用意する\n",
    "\n",
    "### フォーマット\n",
    "```JSON\n",
    "\"info\": {\n",
    "    \"description\": \"COCO 2017 Dataset\",\n",
    "    \"url\": \"http://cocodataset.org\",\n",
    "    \"version\": \"1.0\",\n",
    "    \"year\": 2017,\n",
    "    \"contributor\": \"COCO Consortium\",\n",
    "    \"date_created\": \"2017/09/01\"\n",
    "}\n",
    "```"
   ]
  },
  {
   "cell_type": "code",
   "execution_count": 1,
   "metadata": {},
   "outputs": [],
   "source": [
    "# info部分の作成\n",
    "import json\n",
    "import collections as cl\n",
    "\n",
    "def info():\n",
    "    tmp = cl.OrderedDict() # OrderedDict:値を追加した順序を記憶することができる辞書型風のデータ構造を提供\n",
    "    tmp[\"descripion\"] = \"Predicting_Solar_Flare\"\n",
    "    tmp[\"version\"] = \"0.1\"\n",
    "    tmp[\"year\"] = 2020\n",
    "    tmp[\"contributor\"] = \"Akito Komatsu\"\n",
    "    tmp[\"data_created\"] = \"2020/09/01\"\n",
    "    return tmp\n",
    "def main():\n",
    "    query_list = [\"info\",\"images\",\"annotations\"]\n",
    "    js = cl.OrderedDict()\n",
    "    for i in range (len(query_list)):\n",
    "        tmp = \"\"\n",
    "        if query_list[i] == \"info\":\n",
    "            tmp =info()\n",
    "        \n",
    "        js[query_list[i]] = tmp\n",
    "    fw = open(\"datasets.json\",\"w\")\n",
    "    json.dump(js,fw,indent=2)\n",
    "\n",
    "if __name__ == \"__main__\":\n",
    "    main()\n",
    "\n"
   ]
  },
  {
   "cell_type": "code",
   "execution_count": 2,
   "metadata": {},
   "outputs": [
    {
     "output_type": "execute_result",
     "data": {
      "text/plain": "{'info': {'descripion': 'Predicting_Solar_Flare',\n  'version': '0.1',\n  'year': 2020,\n  'contributor': 'Akito Komatsu',\n  'data_created': '2020/09/01'},\n 'images': '',\n 'annotations': ''}"
     },
     "metadata": {},
     "execution_count": 2
    }
   ],
   "source": [
    "dataset_obj = open(\"datasets.json\",\"r\")\n",
    "dataset_json =json.load(dataset_obj)\n",
    "dataset_json"
   ]
  },
  {
   "cell_type": "markdown",
   "metadata": {},
   "source": [
    "## imagesの作成\n",
    "IDはユニークで後のAnnotation等に関連付けられる  \n",
    "→time？検討\n",
    "フォーマット\n",
    "```JSON\n",
    "\"images\": [\n",
    "    {\n",
    "        \"license\": 4,\n",
    "        \"file_name\": \"000000397133.jpg\",\n",
    "        \"coco_url\": \"http://images.cocodataset.org/val2017/000000397133.jpg\",\n",
    "        \"height\": 427,\n",
    "        \"width\": 640,\n",
    "        \"date_captured\": \"2013-11-14 17:02:52\",\n",
    "        \"flickr_url\": \"http://farm7.staticflickr.com/6116/6255196340_da26cf2c9e_z.jpg\",\n",
    "        \"id\": 397133\n",
    "    },\n",
    "    {\n",
    "        \"license\": 1,\n",
    "        \"file_name\": \"000000037777.jpg\",\n",
    "        \"coco_url\": \"http://images.cocodataset.org/val2017/000000037777.jpg\",\n",
    "        \"height\": 230,\n",
    "        \"width\": 352,\n",
    "        \"date_captured\": \"2013-11-14 20:55:31\",\n",
    "        \"flickr_url\": \"http://farm9.staticflickr.com/8429/7839199426_f6d48aa585_z.jpg\",\n",
    "        \"id\": 37777\n",
    "    },\n",
    "    ...\n",
    "]\n",
    "```"
   ]
  },
  {
   "cell_type": "markdown",
   "metadata": {},
   "source": [
    "## 画像データの作成\n",
    "そもそもCOCOフォーマットのデータを作成する前に画像データ自体を作成しなければならないので指定のフォーマットのデータを作成できるようにする流れは \n",
    "- [ ] FITSファイルから画像データの書き出し\n",
    "- [ ] FITSファイルのメタデータから必要なものを抜きだす\n"
   ]
  },
  {
   "cell_type": "code",
   "execution_count": 24,
   "metadata": {
    "tags": []
   },
   "outputs": [
    {
     "output_type": "error",
     "ename": "OSError",
     "evalue": "cannot write mode I as JPEG",
     "traceback": [
      "\u001b[0;31m---------------------------------------------------------------------------\u001b[0m",
      "\u001b[0;31mKeyError\u001b[0m                                  Traceback (most recent call last)",
      "\u001b[0;32m~/anaconda3/envs/py3.6/lib/python3.6/site-packages/PIL/JpegImagePlugin.py\u001b[0m in \u001b[0;36m_save\u001b[0;34m(im, fp, filename)\u001b[0m\n\u001b[1;32m    613\u001b[0m     \u001b[0;32mtry\u001b[0m\u001b[0;34m:\u001b[0m\u001b[0;34m\u001b[0m\u001b[0;34m\u001b[0m\u001b[0m\n\u001b[0;32m--> 614\u001b[0;31m         \u001b[0mrawmode\u001b[0m \u001b[0;34m=\u001b[0m \u001b[0mRAWMODE\u001b[0m\u001b[0;34m[\u001b[0m\u001b[0mim\u001b[0m\u001b[0;34m.\u001b[0m\u001b[0mmode\u001b[0m\u001b[0;34m]\u001b[0m\u001b[0;34m\u001b[0m\u001b[0;34m\u001b[0m\u001b[0m\n\u001b[0m\u001b[1;32m    615\u001b[0m     \u001b[0;32mexcept\u001b[0m \u001b[0mKeyError\u001b[0m \u001b[0;32mas\u001b[0m \u001b[0me\u001b[0m\u001b[0;34m:\u001b[0m\u001b[0;34m\u001b[0m\u001b[0;34m\u001b[0m\u001b[0m\n",
      "\u001b[0;31mKeyError\u001b[0m: 'I'",
      "\nThe above exception was the direct cause of the following exception:\n",
      "\u001b[0;31mOSError\u001b[0m                                   Traceback (most recent call last)",
      "\u001b[0;32m<ipython-input-24-c765b441e9da>\u001b[0m in \u001b[0;36m<module>\u001b[0;34m\u001b[0m\n\u001b[1;32m     14\u001b[0m \u001b[0;31m# print(filename)\u001b[0m\u001b[0;34m\u001b[0m\u001b[0;34m\u001b[0m\u001b[0;34m\u001b[0m\u001b[0m\n\u001b[1;32m     15\u001b[0m \u001b[0;31m# cv2.imwrite(filename,map.data)\u001b[0m\u001b[0;34m\u001b[0m\u001b[0;34m\u001b[0m\u001b[0;34m\u001b[0m\u001b[0m\n\u001b[0;32m---> 16\u001b[0;31m \u001b[0mpilImg\u001b[0m\u001b[0;34m.\u001b[0m\u001b[0msave\u001b[0m\u001b[0;34m(\u001b[0m\u001b[0mfilename\u001b[0m\u001b[0;34m)\u001b[0m\u001b[0;34m\u001b[0m\u001b[0;34m\u001b[0m\u001b[0m\n\u001b[0m\u001b[1;32m     17\u001b[0m \u001b[0;34m\u001b[0m\u001b[0m\n\u001b[1;32m     18\u001b[0m \u001b[0;34m\u001b[0m\u001b[0m\n",
      "\u001b[0;32m~/anaconda3/envs/py3.6/lib/python3.6/site-packages/PIL/Image.py\u001b[0m in \u001b[0;36msave\u001b[0;34m(self, fp, format, **params)\u001b[0m\n\u001b[1;32m   2156\u001b[0m \u001b[0;34m\u001b[0m\u001b[0m\n\u001b[1;32m   2157\u001b[0m         \u001b[0;32mtry\u001b[0m\u001b[0;34m:\u001b[0m\u001b[0;34m\u001b[0m\u001b[0;34m\u001b[0m\u001b[0m\n\u001b[0;32m-> 2158\u001b[0;31m             \u001b[0msave_handler\u001b[0m\u001b[0;34m(\u001b[0m\u001b[0mself\u001b[0m\u001b[0;34m,\u001b[0m \u001b[0mfp\u001b[0m\u001b[0;34m,\u001b[0m \u001b[0mfilename\u001b[0m\u001b[0;34m)\u001b[0m\u001b[0;34m\u001b[0m\u001b[0;34m\u001b[0m\u001b[0m\n\u001b[0m\u001b[1;32m   2159\u001b[0m         \u001b[0;32mfinally\u001b[0m\u001b[0;34m:\u001b[0m\u001b[0;34m\u001b[0m\u001b[0;34m\u001b[0m\u001b[0m\n\u001b[1;32m   2160\u001b[0m             \u001b[0;31m# do what we can to clean up\u001b[0m\u001b[0;34m\u001b[0m\u001b[0;34m\u001b[0m\u001b[0;34m\u001b[0m\u001b[0m\n",
      "\u001b[0;32m~/anaconda3/envs/py3.6/lib/python3.6/site-packages/PIL/JpegImagePlugin.py\u001b[0m in \u001b[0;36m_save\u001b[0;34m(im, fp, filename)\u001b[0m\n\u001b[1;32m    614\u001b[0m         \u001b[0mrawmode\u001b[0m \u001b[0;34m=\u001b[0m \u001b[0mRAWMODE\u001b[0m\u001b[0;34m[\u001b[0m\u001b[0mim\u001b[0m\u001b[0;34m.\u001b[0m\u001b[0mmode\u001b[0m\u001b[0;34m]\u001b[0m\u001b[0;34m\u001b[0m\u001b[0;34m\u001b[0m\u001b[0m\n\u001b[1;32m    615\u001b[0m     \u001b[0;32mexcept\u001b[0m \u001b[0mKeyError\u001b[0m \u001b[0;32mas\u001b[0m \u001b[0me\u001b[0m\u001b[0;34m:\u001b[0m\u001b[0;34m\u001b[0m\u001b[0;34m\u001b[0m\u001b[0m\n\u001b[0;32m--> 616\u001b[0;31m         \u001b[0;32mraise\u001b[0m \u001b[0mOSError\u001b[0m\u001b[0;34m(\u001b[0m\u001b[0;34m\"cannot write mode %s as JPEG\"\u001b[0m \u001b[0;34m%\u001b[0m \u001b[0mim\u001b[0m\u001b[0;34m.\u001b[0m\u001b[0mmode\u001b[0m\u001b[0;34m)\u001b[0m \u001b[0;32mfrom\u001b[0m \u001b[0me\u001b[0m\u001b[0;34m\u001b[0m\u001b[0;34m\u001b[0m\u001b[0m\n\u001b[0m\u001b[1;32m    617\u001b[0m \u001b[0;34m\u001b[0m\u001b[0m\n\u001b[1;32m    618\u001b[0m     \u001b[0minfo\u001b[0m \u001b[0;34m=\u001b[0m \u001b[0mim\u001b[0m\u001b[0;34m.\u001b[0m\u001b[0mencoderinfo\u001b[0m\u001b[0;34m\u001b[0m\u001b[0;34m\u001b[0m\u001b[0m\n",
      "\u001b[0;31mOSError\u001b[0m: cannot write mode I as JPEG"
     ]
    }
   ],
   "source": [
    "# そもそもの画像の方のデータセットも同時に作る\n",
    "from glob import glob\n",
    "import sunpy.map\n",
    "import cv2\n",
    "fits_path = \"/media/akito/Data/HMI_REGION/2010/*2010050*\"\n",
    "paths = sorted(glob(fits_path))\n",
    "for path in paths:\n",
    "    filename=\"/home/akito/Documents/Documents/Predict_Solar_Flare_Mrcnn/Dataset/Sun/Image/\"+path.split(\".\")[2][0:15]+\".jpg\"\n",
    "    map=sunpy.map.Map(path)\n",
    "    print(filename)\n",
    "    cv2.imwrite(filename,map.data)\n",
    "\n",
    "\n"
   ]
  },
  {
   "cell_type": "markdown",
   "metadata": {},
   "source": [
    "## 画像のフォーマットについて\n",
    "Numpyを書き出したら白黒の4k4kのデータになっているがこれで大丈夫そうか？\n"
   ]
  }
 ]
}