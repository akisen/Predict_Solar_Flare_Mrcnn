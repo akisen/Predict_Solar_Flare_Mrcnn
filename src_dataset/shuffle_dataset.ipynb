{
 "metadata": {
  "language_info": {
   "codemirror_mode": {
    "name": "ipython",
    "version": 3
   },
   "file_extension": ".py",
   "mimetype": "text/x-python",
   "name": "python",
   "nbconvert_exporter": "python",
   "pygments_lexer": "ipython3",
   "version": "3.6.10-final"
  },
  "orig_nbformat": 2,
  "kernelspec": {
   "name": "python3",
   "display_name": "Python 3",
   "language": "python"
  }
 },
 "nbformat": 4,
 "nbformat_minor": 2,
 "cells": [
  {
   "cell_type": "code",
   "execution_count": null,
   "metadata": {},
   "outputs": [],
   "source": [
    "import utils\n",
    "import glob\n",
    "coord_df_paths = glob.glob(\"/media/akito/Data21/Experiments/resample(202105)/balance_dataset/201005_1107_shuffle/coord_df/*.pickle\")\n",
    "coord_df = utils.open(coord_df_paths[0])\n",
    "for coord_df_path in coord_df_paths:\n",
    "\n",
    "    utils.pickle_open(coord_df_path)"
   ]
  },
  {
   "cell_type": "code",
   "execution_count": 1,
   "metadata": {},
   "outputs": [],
   "source": [
    "\n",
    "df_path = \"/home/akito/Documents/Predict_Solar_Flare_Mrcnn/coord_dfs/8hr/15months/merged_df.pickle\"\n",
    "coord_df = utils.pickle_load(df_path)"
   ]
  },
  {
   "cell_type": "code",
   "execution_count": 2,
   "metadata": {},
   "outputs": [],
   "source": []
  },
  {
   "cell_type": "code",
   "execution_count": 3,
   "metadata": {},
   "outputs": [
    {
     "output_type": "execute_result",
     "data": {
      "text/plain": [
       "                                                               Polygon  \\\n",
       "2010-12-29 15:00:00  [[[1313.0, 1340.0], [1313.0, 1341.0], [1312.0,...   \n",
       "2011-06-19 16:00:00  [[[307.0, 2468.0], [307.0, 2469.0], [306.0, 24...   \n",
       "2010-09-23 03:00:00  [[[351.0, 2709.0], [351.0, 2710.0], [350.0, 27...   \n",
       "2011-04-25 21:00:00  [[[276.0, 1359.0], [276.0, 1361.0], [275.0, 13...   \n",
       "2011-01-02 12:00:00  [[[1159.0, 1574.0], [1159.0, 1575.0], [1158.0,...   \n",
       "...                                                                ...   \n",
       "2010-08-05 10:00:00  [[[1572.0, 1453.0], [1572.0, 1454.0], [1571.0,...   \n",
       "2011-03-24 07:00:00                                                 []   \n",
       "2010-09-09 17:00:00  [[[855.0, 1458.0], [855.0, 1459.0], [854.0, 14...   \n",
       "2010-12-09 00:00:00  [[[1813.0, 843.0], [1813.0, 844.0], [1812.0, 8...   \n",
       "2011-04-26 00:00:00  [[[273.0, 1368.0], [273.0, 1370.0], [272.0, 13...   \n",
       "\n",
       "                                                           C_FLARE  \\\n",
       "2010-12-29 15:00:00                                   [0, 0, 0, 0]   \n",
       "2011-06-19 16:00:00                       [0, 0, 0, 0, 0, 0, 0, 0]   \n",
       "2010-09-23 03:00:00                             [0, 0, 0, 0, 0, 0]   \n",
       "2011-04-25 21:00:00  [0, 0, 0, 0, 0, 0, 0, 0, 0, 0, 0, 0, 0, 0, 0]   \n",
       "2011-01-02 12:00:00                       [0, 0, 0, 0, 0, 0, 0, 0]   \n",
       "...                                                            ...   \n",
       "2010-08-05 10:00:00                          [0, 0, 0, 0, 0, 0, 0]   \n",
       "2011-03-24 07:00:00                                             []   \n",
       "2010-09-09 17:00:00                                      [0, 0, 0]   \n",
       "2010-12-09 00:00:00                    [0, 0, 0, 0, 0, 0, 0, 0, 0]   \n",
       "2011-04-26 00:00:00     [0, 0, 0, 0, 0, 0, 0, 0, 0, 0, 0, 0, 0, 0]   \n",
       "\n",
       "                                                           M_FLARE  \\\n",
       "2010-12-29 15:00:00                                   [0, 0, 0, 0]   \n",
       "2011-06-19 16:00:00                       [0, 0, 0, 0, 0, 0, 0, 0]   \n",
       "2010-09-23 03:00:00                             [0, 0, 0, 0, 0, 0]   \n",
       "2011-04-25 21:00:00  [0, 0, 0, 0, 0, 0, 0, 0, 0, 0, 0, 0, 0, 0, 0]   \n",
       "2011-01-02 12:00:00                       [0, 0, 0, 0, 0, 0, 0, 0]   \n",
       "...                                                            ...   \n",
       "2010-08-05 10:00:00                          [0, 0, 0, 0, 0, 0, 0]   \n",
       "2011-03-24 07:00:00                                             []   \n",
       "2010-09-09 17:00:00                                      [0, 0, 0]   \n",
       "2010-12-09 00:00:00                    [0, 0, 0, 0, 0, 0, 0, 0, 0]   \n",
       "2011-04-26 00:00:00     [0, 0, 0, 0, 0, 0, 0, 0, 0, 0, 0, 0, 0, 0]   \n",
       "\n",
       "                                                           X_FLARE  \n",
       "2010-12-29 15:00:00                                   [0, 0, 0, 0]  \n",
       "2011-06-19 16:00:00                       [0, 0, 0, 0, 0, 0, 0, 0]  \n",
       "2010-09-23 03:00:00                             [0, 0, 0, 0, 0, 0]  \n",
       "2011-04-25 21:00:00  [0, 0, 0, 0, 0, 0, 0, 0, 0, 0, 0, 0, 0, 0, 0]  \n",
       "2011-01-02 12:00:00                       [0, 0, 0, 0, 0, 0, 0, 0]  \n",
       "...                                                            ...  \n",
       "2010-08-05 10:00:00                          [0, 0, 0, 0, 0, 0, 0]  \n",
       "2011-03-24 07:00:00                                             []  \n",
       "2010-09-09 17:00:00                                      [0, 0, 0]  \n",
       "2010-12-09 00:00:00                    [0, 0, 0, 0, 0, 0, 0, 0, 0]  \n",
       "2011-04-26 00:00:00     [0, 0, 0, 0, 0, 0, 0, 0, 0, 0, 0, 0, 0, 0]  \n",
       "\n",
       "[11713 rows x 4 columns]"
      ],
      "text/html": "<div>\n<style scoped>\n    .dataframe tbody tr th:only-of-type {\n        vertical-align: middle;\n    }\n\n    .dataframe tbody tr th {\n        vertical-align: top;\n    }\n\n    .dataframe thead th {\n        text-align: right;\n    }\n</style>\n<table border=\"1\" class=\"dataframe\">\n  <thead>\n    <tr style=\"text-align: right;\">\n      <th></th>\n      <th>Polygon</th>\n      <th>C_FLARE</th>\n      <th>M_FLARE</th>\n      <th>X_FLARE</th>\n    </tr>\n  </thead>\n  <tbody>\n    <tr>\n      <th>2010-12-29 15:00:00</th>\n      <td>[[[1313.0, 1340.0], [1313.0, 1341.0], [1312.0,...</td>\n      <td>[0, 0, 0, 0]</td>\n      <td>[0, 0, 0, 0]</td>\n      <td>[0, 0, 0, 0]</td>\n    </tr>\n    <tr>\n      <th>2011-06-19 16:00:00</th>\n      <td>[[[307.0, 2468.0], [307.0, 2469.0], [306.0, 24...</td>\n      <td>[0, 0, 0, 0, 0, 0, 0, 0]</td>\n      <td>[0, 0, 0, 0, 0, 0, 0, 0]</td>\n      <td>[0, 0, 0, 0, 0, 0, 0, 0]</td>\n    </tr>\n    <tr>\n      <th>2010-09-23 03:00:00</th>\n      <td>[[[351.0, 2709.0], [351.0, 2710.0], [350.0, 27...</td>\n      <td>[0, 0, 0, 0, 0, 0]</td>\n      <td>[0, 0, 0, 0, 0, 0]</td>\n      <td>[0, 0, 0, 0, 0, 0]</td>\n    </tr>\n    <tr>\n      <th>2011-04-25 21:00:00</th>\n      <td>[[[276.0, 1359.0], [276.0, 1361.0], [275.0, 13...</td>\n      <td>[0, 0, 0, 0, 0, 0, 0, 0, 0, 0, 0, 0, 0, 0, 0]</td>\n      <td>[0, 0, 0, 0, 0, 0, 0, 0, 0, 0, 0, 0, 0, 0, 0]</td>\n      <td>[0, 0, 0, 0, 0, 0, 0, 0, 0, 0, 0, 0, 0, 0, 0]</td>\n    </tr>\n    <tr>\n      <th>2011-01-02 12:00:00</th>\n      <td>[[[1159.0, 1574.0], [1159.0, 1575.0], [1158.0,...</td>\n      <td>[0, 0, 0, 0, 0, 0, 0, 0]</td>\n      <td>[0, 0, 0, 0, 0, 0, 0, 0]</td>\n      <td>[0, 0, 0, 0, 0, 0, 0, 0]</td>\n    </tr>\n    <tr>\n      <th>...</th>\n      <td>...</td>\n      <td>...</td>\n      <td>...</td>\n      <td>...</td>\n    </tr>\n    <tr>\n      <th>2010-08-05 10:00:00</th>\n      <td>[[[1572.0, 1453.0], [1572.0, 1454.0], [1571.0,...</td>\n      <td>[0, 0, 0, 0, 0, 0, 0]</td>\n      <td>[0, 0, 0, 0, 0, 0, 0]</td>\n      <td>[0, 0, 0, 0, 0, 0, 0]</td>\n    </tr>\n    <tr>\n      <th>2011-03-24 07:00:00</th>\n      <td>[]</td>\n      <td>[]</td>\n      <td>[]</td>\n      <td>[]</td>\n    </tr>\n    <tr>\n      <th>2010-09-09 17:00:00</th>\n      <td>[[[855.0, 1458.0], [855.0, 1459.0], [854.0, 14...</td>\n      <td>[0, 0, 0]</td>\n      <td>[0, 0, 0]</td>\n      <td>[0, 0, 0]</td>\n    </tr>\n    <tr>\n      <th>2010-12-09 00:00:00</th>\n      <td>[[[1813.0, 843.0], [1813.0, 844.0], [1812.0, 8...</td>\n      <td>[0, 0, 0, 0, 0, 0, 0, 0, 0]</td>\n      <td>[0, 0, 0, 0, 0, 0, 0, 0, 0]</td>\n      <td>[0, 0, 0, 0, 0, 0, 0, 0, 0]</td>\n    </tr>\n    <tr>\n      <th>2011-04-26 00:00:00</th>\n      <td>[[[273.0, 1368.0], [273.0, 1370.0], [272.0, 13...</td>\n      <td>[0, 0, 0, 0, 0, 0, 0, 0, 0, 0, 0, 0, 0, 0]</td>\n      <td>[0, 0, 0, 0, 0, 0, 0, 0, 0, 0, 0, 0, 0, 0]</td>\n      <td>[0, 0, 0, 0, 0, 0, 0, 0, 0, 0, 0, 0, 0, 0]</td>\n    </tr>\n  </tbody>\n</table>\n<p>11713 rows × 4 columns</p>\n</div>"
     },
     "metadata": {},
     "execution_count": 3
    }
   ],
   "source": [
    "shuffled_df"
   ]
  },
  {
   "cell_type": "code",
   "execution_count": 4,
   "metadata": {
    "tags": []
   },
   "outputs": [
    {
     "output_type": "stream",
     "name": "stdout",
     "text": [
      "train_data:881:58339:val_data:213:14705\n"
     ]
    }
   ],
   "source": [
    "split_num = int(len(shuffled_df)*0.8)\n",
    "train_df = shuffled_df.iloc[:split_num,:]\n",
    "val_df = shuffled_df.iloc[split_num:,:]\n",
    "count_train_t = 0\n",
    "count_val_t = 0\n",
    "count_train_f = 0\n",
    "count_val_f = 0\n",
    "for values in train_df.loc[:,\"C_FLARE\"].values:\n",
    "    for value in values:\n",
    "        if value != 0:\n",
    "            count_train_t += 1\n",
    "        else:\n",
    "            count_train_f += 1\n",
    "for values in val_df.loc[:,\"C_FLARE\"].values:\n",
    "    for value in values:\n",
    "        if value != 0:\n",
    "            count_val_t += 1\n",
    "        else:\n",
    "            count_val_f +=1\n",
    "print(\"train_data:{}:{}:val_data:{}:{}\".format(count_train_t,count_train_f,count_val_t,count_val_f))"
   ]
  },
  {
   "cell_type": "code",
   "execution_count": 37,
   "metadata": {},
   "outputs": [
    {
     "output_type": "stream",
     "name": "stdout",
     "text": [
      "[True, True]\ntrain_data:1:8619:val_data:37:2157\n"
     ]
    }
   ],
   "source": [
    "count_train_t = 0\n",
    "count_val_t = 0\n",
    "count_train_f = 0\n",
    "count_val_f = 0\n",
    "for values in train_df.loc[:,\"C_FLARE\"].values:\n",
    "   for value in values:\n",
    "       \n",
    "for values in val_df.loc[:,\"C_FLARE\"].values:\n",
    "    if (all([value==0 for value in values])):\n",
    "       count_val_f+=1\n",
    "    else:\n",
    "        count_val_t+=1\n",
    "print(\"train_data:{}:{}:val_data:{}:{}\".format(count_train_t,count_train_f,count_val_t,count_val_f))"
   ]
  },
  {
   "cell_type": "code",
   "execution_count": 5,
   "metadata": {},
   "outputs": [],
   "source": [
    "train_df.to_pickle(\"../train_df.pickle\")"
   ]
  },
  {
   "cell_type": "code",
   "execution_count": 6,
   "metadata": {},
   "outputs": [],
   "source": [
    "val_df.to_pickle(\"../val_df.pickle\")"
   ]
  },
  {
   "cell_type": "code",
   "execution_count": null,
   "metadata": {},
   "outputs": [],
   "source": []
  }
 ]
}