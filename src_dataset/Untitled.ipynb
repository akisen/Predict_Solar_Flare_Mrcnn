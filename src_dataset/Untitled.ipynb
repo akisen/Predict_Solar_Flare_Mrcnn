{
 "cells": [
  {
   "cell_type": "code",
   "execution_count": 1,
   "metadata": {},
   "outputs": [
    {
     "name": "stdout",
     "output_type": "stream",
     "text": [
      "[2014, 2015, 2016, 2017, 2018, 2019]\n",
      "/opt/anaconda3/envs/py3.6/lib/python3.6/site-packages/numpy/ma/core.py:2832: VisibleDeprecationWarning: Creating an ndarray from ragged nested sequences (which is a list-or-tuple of lists-or-tuples-or ndarrays with different lengths or shapes) is deprecated. If you meant to do this, you must specify 'dtype=object' when creating the ndarray\n",
      "  order=order, subok=True, ndmin=ndmin)\n",
      "Flare201401.csv\n",
      "Flare201402.csv\n",
      "Flare201403.csv\n",
      "Flare201404.csv\n",
      "Flare201501.csv\n",
      "Flare201502.csv\n",
      "Flare201503.csv\n",
      "Flare201504.csv\n",
      "Flare201601.csv\n",
      "Flare201602.csv\n",
      "Flare201603.csv\n",
      "Flare201604.csv\n",
      "Flare201701.csv\n",
      "^C\n",
      "Traceback (most recent call last):\n",
      "  File \"Download_FlareData_from_HEK.py\", line 24, in <module>\n",
      "    results = client.search(hek.attrs.Time(tstart,tend),hek.attrs.EventType(event_type))\n",
      "  File \"/opt/anaconda3/envs/py3.6/lib/python3.6/site-packages/sunpy/net/hek/hek.py\", line 91, in search\n",
      "    return self._download(ndata[0])\n",
      "  File \"/opt/anaconda3/envs/py3.6/lib/python3.6/site-packages/sunpy/net/hek/hek.py\", line 60, in _download\n",
      "    result = codecs.decode(fd.read(), encoding='utf-8', errors='replace')\n",
      "  File \"/opt/anaconda3/envs/py3.6/lib/python3.6/http/client.py\", line 466, in read\n",
      "    return self._readall_chunked()\n",
      "  File \"/opt/anaconda3/envs/py3.6/lib/python3.6/http/client.py\", line 576, in _readall_chunked\n",
      "    value.append(self._safe_read(chunk_left))\n",
      "  File \"/opt/anaconda3/envs/py3.6/lib/python3.6/http/client.py\", line 622, in _safe_read\n",
      "    chunk = self.fp.read(min(amt, MAXAMOUNT))\n",
      "  File \"/opt/anaconda3/envs/py3.6/lib/python3.6/socket.py\", line 586, in readinto\n",
      "    return self._sock.recv_into(b)\n",
      "  File \"/opt/anaconda3/envs/py3.6/lib/python3.6/ssl.py\", line 1012, in recv_into\n",
      "    return self.read(nbytes, buffer)\n",
      "  File \"/opt/anaconda3/envs/py3.6/lib/python3.6/ssl.py\", line 874, in read\n",
      "    return self._sslobj.read(len, buffer)\n",
      "  File \"/opt/anaconda3/envs/py3.6/lib/python3.6/ssl.py\", line 631, in read\n",
      "    v = self._sslobj.read(len, buffer)\n",
      "KeyboardInterrupt\n"
     ]
    }
   ],
   "source": [
    "!python3 Download_FlareData_from_HEK.py"
   ]
  },
  {
   "cell_type": "code",
   "execution_count": 5,
   "metadata": {},
   "outputs": [
    {
     "name": "stderr",
     "output_type": "stream",
     "text": [
      "/opt/anaconda3/envs/py3.6/lib/python3.6/site-packages/numpy/ma/core.py:2832: VisibleDeprecationWarning: Creating an ndarray from ragged nested sequences (which is a list-or-tuple of lists-or-tuples-or ndarrays with different lengths or shapes) is deprecated. If you meant to do this, you must specify 'dtype=object' when creating the ndarray\n",
      "  order=order, subok=True, ndmin=ndmin)\n"
     ]
    }
   ],
   "source": [
    "import datetime\n",
    "from sunpy.net import hek\n",
    "import pandas as pd\n",
    "import time\n",
    "from dateutil.relativedelta import relativedelta\n",
    "import datetime\n",
    "import calendar\n",
    "client = hek.HEKClient()\n",
    "tstart = datetime.date(2010,5,1)\n",
    "tend = datetime.date(2010,12,31)\n",
    "event_type = 'FL'\n",
    "keys =[\"SOL_standard\",\"fl_goescls\",\"boundbox_c1ll\",\"boundbox_c1ur\",\"boundbox_c2ll\",\"boundbox_c2ur\",\"event_starttime\",\"event_endtime\",\"search_observatory\"]\n",
    "Flaredf =pd.DataFrame(columns=keys)\n",
    "results = client.search(hek.attrs.Time(tstart,tend),hek.attrs.EventType(event_type))\n",
    "for result in results:\n",
    "    tmp_se=pd.Series([result[key] for key in keys],index =Flaredf.columns)\n",
    "    Flaredf=Flaredf.append(tmp_se,ignore_index=True)\n",
    "Flaredf.to_csv(\"Flare2010.csv\")"
   ]
  }
 ],
 "metadata": {
  "kernelspec": {
   "display_name": "Python 3.6.10 64-bit ('py3.6': conda)",
   "language": "python",
   "name": "python361064bitpy36conda6befa9babba8473cb67cdf7215549def"
  },
  "language_info": {
   "codemirror_mode": {
    "name": "ipython",
    "version": 3
   },
   "file_extension": ".py",
   "mimetype": "text/x-python",
   "name": "python",
   "nbconvert_exporter": "python",
   "pygments_lexer": "ipython3",
   "version": "3.6.10"
  }
 },
 "nbformat": 4,
 "nbformat_minor": 4
}
