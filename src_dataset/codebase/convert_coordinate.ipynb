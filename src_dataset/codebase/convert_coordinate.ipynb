{
 "metadata": {
  "language_info": {
   "codemirror_mode": {
    "name": "ipython",
    "version": 3
   },
   "file_extension": ".py",
   "mimetype": "text/x-python",
   "name": "python",
   "nbconvert_exporter": "python",
   "pygments_lexer": "ipython3",
   "version": "3.6.10-final"
  },
  "orig_nbformat": 2,
  "kernelspec": {
   "name": "Python 3.6.10 64-bit",
   "display_name": "Python 3.6.10 64-bit",
   "metadata": {
    "interpreter": {
     "hash": "c1adb5375f229d1eea2415024ee773cb2493614d24a9913a0f46472292080f4e"
    }
   }
  }
 },
 "nbformat": 4,
 "nbformat_minor": 2,
 "cells": [
  {
   "cell_type": "code",
   "execution_count": 18,
   "metadata": {},
   "outputs": [
    {
     "output_type": "execute_result",
     "data": {
      "text/plain": "[{'2010-05-01 09:48:00': '{\"magnitude\": \"B1.0\", \"id\": 2, \"NOAA_AR\": 11067, \"narn_source\": \"GOES\", \"verification\": \"Primary\"}'},\n {'2010-05-02 06:00:00': '{\"magnitude\": \"B2.9\", \"id\": 3, \"NOAA_AR\": 11067, \"narn_source\": \"GOES\", \"verification\": \"Primary\"}'},\n {'2010-05-02 10:00:00': '{\"magnitude\": \"B3.8\", \"id\": 4, \"NOAA_AR\": 11067, \"narn_source\": \"GOES\", \"verification\": \"Primary\"}'},\n {'2010-05-02 16:24:00': '{\"magnitude\": \"B1.9\", \"id\": 6, \"NOAA_AR\": -1, \"narn_source\": null, \"verification\": \"Secondary\"}'},\n {'2010-05-02 17:48:00': '{\"magnitude\": \"B1.2\", \"id\": 7, \"NOAA_AR\": -1, \"narn_source\": null, \"verification\": \"Secondary\"}'},\n {'2010-05-02 21:00:00': '{\"magnitude\": \"B1.4\", \"id\": 8, \"NOAA_AR\": -1, \"narn_source\": null, \"verification\": \"Secondary\"}'},\n {'2010-05-02 21:48:00': '{\"magnitude\": \"B1.5\", \"id\": 9, \"NOAA_AR\": -1, \"narn_source\": null, \"verification\": \"Secondary\"}'}]"
     },
     "metadata": {},
     "execution_count": 18
    }
   ],
   "source": [
    "import pandas as pd\n",
    "flare_df = pd.read_table(\"/media/akito/Data/SWAN_Flare/dataverse_files/SWAN/partition1/1.csv\")\n",
    "[{time:label} for time,label in zip (flare_df[\"Timestamp\"],flare_df[\"BFLARE_LABEL_LOC\"]) if label !=\"None\"]"
   ]
  },
  {
   "cell_type": "code",
   "execution_count": 7,
   "metadata": {},
   "outputs": [
    {
     "output_type": "execute_result",
     "data": {
      "text/plain": "<SkyCoord (Helioprojective: obstime=None, rsun=695700.0 km, observer=None): (Tx, Ty) in arcsec\n    (-100., 500.)>"
     },
     "metadata": {},
     "execution_count": 7
    }
   ],
   "source": [
    "import astropy.units as u\n",
    "from astropy.coordinates import SkyCoord\n",
    "import sunpy.coordinates\n"
   ]
  }
 ]
}