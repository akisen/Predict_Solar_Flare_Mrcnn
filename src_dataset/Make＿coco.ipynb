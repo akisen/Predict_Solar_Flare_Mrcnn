{
 "metadata": {
  "language_info": {
   "codemirror_mode": {
    "name": "ipython",
    "version": 3
   },
   "file_extension": ".py",
   "mimetype": "text/x-python",
   "name": "python",
   "nbconvert_exporter": "python",
   "pygments_lexer": "ipython3",
   "version": "3.6.10-final"
  },
  "orig_nbformat": 2,
  "kernelspec": {
   "name": "python361064bitpy36conda6befa9babba8473cb67cdf7215549def",
   "display_name": "Python 3.6.10 64-bit ('py3.6': conda)"
  }
 },
 "nbformat": 4,
 "nbformat_minor": 2,
 "cells": [
  {
   "cell_type": "markdown",
   "metadata": {},
   "source": [
    "## MaskデータをCOCOフォーマットに変換して学習用のデータセットを作成する\n",
    "[参考:COCO Formatの作り方](https://qiita.com/harmegiddo/items/da131ae5bcddbbbde41f)"
   ]
  },
  {
   "cell_type": "markdown",
   "metadata": {},
   "source": [
    "## フォーマット\n",
    "データ全体のフォーマットは以下の通り  \n",
    "今回必要そうなのは、  \n",
    "- Info\n",
    "- Images\n",
    "- Annotations\n",
    "```JSON\n",
    "{\n",
    "    \"info\": {...},\n",
    "    \"licenses\": [...],\n",
    "    \"images\": [...],\n",
    "    \"annotations\": [...],\n",
    "    \"categories\": [...], <-- Not in Captions annotations\n",
    "    \"segment_info\": [...] <-- Only in Panoptic annotations\n",
    "}\n",
    "\n",
    "```"
   ]
  },
  {
   "cell_type": "markdown",
   "metadata": {},
   "source": [
    "## Info部分の作成\n",
    "あってもなくてもいいがデータセットの内容について記述するために用意する\n",
    "\n",
    "### フォーマット\n",
    "```JSON\n",
    "\"info\": {\n",
    "    \"description\": \"COCO 2017 Dataset\",\n",
    "    \"url\": \"http://cocodataset.org\",\n",
    "    \"version\": \"1.0\",\n",
    "    \"year\": 2017,\n",
    "    \"contributor\": \"COCO Consortium\",\n",
    "    \"date_created\": \"2017/09/01\"\n",
    "}\n",
    "```"
   ]
  },
  {
   "cell_type": "code",
   "execution_count": 10,
   "metadata": {},
   "outputs": [],
   "source": [
    "# info部分の作成\n",
    "import json\n",
    "import collections as cl\n",
    "\n",
    "def info():\n",
    "    tmp = cl.OrderedDict() # OrderedDict:値を追加した順序を記憶することができる辞書型風のデータ構造を提供\n",
    "    tmp[\"descripion\"] = \"Predicting_Solar_Flare\"\n",
    "    tmp[\"version\"] = \"0.1\"\n",
    "    tmp[\"year\"] = 2020\n",
    "    tmp[\"contributor\"] = \"Akito Komatsu\"\n",
    "    tmp[\"data_created\"] = \"2020/09/01\"\n",
    "    return tmp\n",
    "def main():\n",
    "    query_list = [\"info\",\"images\",\"annotations\"]\n",
    "    js = cl.OrderedDict()\n",
    "    for i in range (len(query_list)):\n",
    "        tmp = \"\"\n",
    "        if query_list[i] == \"info\":\n",
    "            tmp =info()\n",
    "        \n",
    "        js[query_list[i]] = tmp\n",
    "    fw = open(\"datasets.json\",\"w\")\n",
    "    json.dump(js,fw,indent=2)\n",
    "\n",
    "if __name__ == \"__main__\":\n",
    "    main()\n",
    "\n"
   ]
  },
  {
   "cell_type": "code",
   "execution_count": 11,
   "metadata": {},
   "outputs": [],
   "source": [
    "dataset_obj = open(\"datasets.json\",\"r\")\n",
    "dataset_json =json.load(dataset_obj)\n",
    "dataset_json"
   ]
  },
  {
   "cell_type": "code",
   "execution_count": null,
   "metadata": {},
   "outputs": [],
   "source": []
  }
 ]
}