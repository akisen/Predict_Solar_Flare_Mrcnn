{
 "metadata": {
  "language_info": {
   "codemirror_mode": {
    "name": "ipython",
    "version": 3
   },
   "file_extension": ".py",
   "mimetype": "text/x-python",
   "name": "python",
   "nbconvert_exporter": "python",
   "pygments_lexer": "ipython3",
   "version": "3.6.10-final"
  },
  "orig_nbformat": 2,
  "kernelspec": {
   "name": "python_defaultSpec_1598832323445",
   "display_name": "Python 3.6.10 64-bit ('py3.6': conda)"
  }
 },
 "nbformat": 4,
 "nbformat_minor": 2,
 "cells": [
  {
   "cell_type": "markdown",
   "metadata": {},
   "source": [
    "## MaskデータをCOCOフォーマットに変換して学習用のデータセットを作成する\n",
    "[参考:COCO Formatの作り方](https://qiita.com/harmegiddo/items/da131ae5bcddbbbde41f)"
   ]
  },
  {
   "cell_type": "markdown",
   "metadata": {},
   "source": [
    "## フォーマット\n",
    "データ全体のフォーマットは以下の通り  \n",
    "今回必要そうなのは、  \n",
    "- Info\n",
    "- Images\n",
    "- Annotations\n",
    "```JSON\n",
    "{\n",
    "    \"info\": {...},\n",
    "    \"licenses\": [...],\n",
    "    \"images\": [...],\n",
    "    \"annotations\": [...],\n",
    "    \"categories\": [...], <-- Not in Captions annotations\n",
    "    \"segment_info\": [...] <-- Only in Panoptic annotations\n",
    "}\n",
    "\n",
    "```"
   ]
  },
  {
   "cell_type": "markdown",
   "metadata": {},
   "source": [
    "## Info部分の作成\n",
    "あってもなくてもいいがデータセットの内容について記述するために用意する\n",
    "\n",
    "### フォーマット\n",
    "```JSON\n",
    "\"info\": {\n",
    "    \"description\": \"COCO 2017 Dataset\",\n",
    "    \"url\": \"http://cocodataset.org\",\n",
    "    \"version\": \"1.0\",\n",
    "    \"year\": 2017,\n",
    "    \"contributor\": \"COCO Consortium\",\n",
    "    \"date_created\": \"2017/09/01\"\n",
    "}\n",
    "```"
   ]
  },
  {
   "cell_type": "code",
   "execution_count": 1,
   "metadata": {},
   "outputs": [],
   "source": [
    "# info部分の作成\n",
    "import json\n",
    "import collections as cl\n",
    "\n",
    "def info():\n",
    "    tmp = cl.OrderedDict() # OrderedDict:値を追加した順序を記憶することができる辞書型風のデータ構造を提供\n",
    "    tmp[\"descripion\"] = \"Predicting_Solar_Flare\"\n",
    "    tmp[\"version\"] = \"0.1\"\n",
    "    tmp[\"year\"] = 2020\n",
    "    tmp[\"contributor\"] = \"Akito Komatsu\"\n",
    "    tmp[\"data_created\"] = \"2020/09/01\"\n",
    "    return tmp\n",
    "def main():\n",
    "    query_list = [\"info\",\"images\",\"annotations\"]\n",
    "    js = cl.OrderedDict()\n",
    "    for i in range (len(query_list)):\n",
    "        tmp = \"\"\n",
    "        if query_list[i] == \"info\":\n",
    "            tmp =info()\n",
    "        \n",
    "        js[query_list[i]] = tmp\n",
    "    fw = open(\"datasets.json\",\"w\")\n",
    "    json.dump(js,fw,indent=2)\n",
    "\n",
    "if __name__ == \"__main__\":\n",
    "    main()\n",
    "\n"
   ]
  },
  {
   "cell_type": "code",
   "execution_count": 2,
   "metadata": {},
   "outputs": [
    {
     "output_type": "execute_result",
     "data": {
      "text/plain": "{'info': {'descripion': 'Predicting_Solar_Flare',\n  'version': '0.1',\n  'year': 2020,\n  'contributor': 'Akito Komatsu',\n  'data_created': '2020/09/01'},\n 'images': '',\n 'annotations': ''}"
     },
     "metadata": {},
     "execution_count": 2
    }
   ],
   "source": [
    "dataset_obj = open(\"datasets.json\",\"r\")\n",
    "dataset_json =json.load(dataset_obj)\n",
    "dataset_json"
   ]
  },
  {
   "cell_type": "markdown",
   "metadata": {},
   "source": [
    "## imagesの作成\n",
    "IDはユニークで後のAnnotation等に関連付けられる  \n",
    "→ARnum+time？検討  \n",
    "フォーマット\n",
    "```JSON\n",
    "\"images\": [\n",
    "    {\n",
    "        \"license\": 4,\n",
    "        \"file_name\": \"000000397133.jpg\",\n",
    "        \"coco_url\": \"http://images.cocodataset.org/val2017/000000397133.jpg\",\n",
    "        \"height\": 427,\n",
    "        \"width\": 640,\n",
    "        \"date_captured\": \"2013-11-14 17:02:52\",\n",
    "        \"flickr_url\": \"http://farm7.staticflickr.com/6116/6255196340_da26cf2c9e_z.jpg\",\n",
    "        \"id\": 397133\n",
    "    },\n",
    "    {\n",
    "        \"license\": 1,\n",
    "        \"file_name\": \"000000037777.jpg\",\n",
    "        \"coco_url\": \"http://images.cocodataset.org/val2017/000000037777.jpg\",\n",
    "        \"height\": 230,\n",
    "        \"width\": 352,\n",
    "        \"date_captured\": \"2013-11-14 20:55:31\",\n",
    "        \"flickr_url\": \"http://farm9.staticflickr.com/8429/7839199426_f6d48aa585_z.jpg\",\n",
    "        \"id\": 37777\n",
    "    },\n",
    "    ...\n",
    "]\n",
    "```"
   ]
  },
  {
   "cell_type": "code",
   "execution_count": null,
   "metadata": {},
   "outputs": [],
   "source": [
    "# "
   ]
  }
 ]
}